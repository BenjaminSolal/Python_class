{
  "cells": [
    {
      "cell_type": "markdown",
      "metadata": {
        "id": "view-in-github",
        "colab_type": "text"
      },
      "source": [
        "<a href=\"https://colab.research.google.com/github/BenjaminSolal/Python_class/blob/main/Copie_de_jupyter.ipynb\" target=\"_parent\"><img src=\"https://colab.research.google.com/assets/colab-badge.svg\" alt=\"Open In Colab\"/></a>"
      ]
    },
    {
      "cell_type": "markdown",
      "source": [
        "Import pandas and other dependencies"
      ],
      "metadata": {
        "id": "ErVVTnlxS8CX"
      },
      "id": "ErVVTnlxS8CX"
    },
    {
      "cell_type": "code",
      "source": [
        "import matplotlib.pyplot as plt\n",
        "import seaborn as sns\n",
        "import plotly.express as px\n",
        "import pandas as pd\n",
        "import numpy as np\n",
        "\n"
      ],
      "metadata": {
        "id": "Jw-B3oqeQJLL"
      },
      "id": "Jw-B3oqeQJLL",
      "execution_count": null,
      "outputs": []
    },
    {
      "cell_type": "markdown",
      "source": [
        "Collect the data"
      ],
      "metadata": {
        "id": "WJL517K9XxhT"
      },
      "id": "WJL517K9XxhT"
    },
    {
      "cell_type": "code",
      "source": [
        "# loading the dataset\n",
        "wine_data = pd.read_csv('winequality-red.csv')"
      ],
      "metadata": {
        "id": "-fLmE1MDYATc"
      },
      "id": "-fLmE1MDYATc",
      "execution_count": null,
      "outputs": []
    },
    {
      "cell_type": "code",
      "source": [
        "#number of rows and columns\n",
        "print(wine_data.shape)\n",
        "#you have 1599 rows and 12 columns"
      ],
      "metadata": {
        "colab": {
          "base_uri": "https://localhost:8080/"
        },
        "id": "hT8R5uPjZhYR",
        "outputId": "3a6883a1-bfdb-42c5-a573-eb31928a78f4"
      },
      "id": "hT8R5uPjZhYR",
      "execution_count": null,
      "outputs": [
        {
          "output_type": "stream",
          "name": "stdout",
          "text": [
            "(1599, 12)\n"
          ]
        }
      ]
    },
    {
      "cell_type": "code",
      "source": [
        "#print the first rows\n",
        "print(wine_data.head())\n",
        "#To know how is structured the dataset"
      ],
      "metadata": {
        "colab": {
          "base_uri": "https://localhost:8080/"
        },
        "id": "KYtG3OBFZNOy",
        "outputId": "218e9953-bea3-4e34-a3bc-c3bb6f6a94e2"
      },
      "id": "KYtG3OBFZNOy",
      "execution_count": null,
      "outputs": [
        {
          "output_type": "stream",
          "name": "stdout",
          "text": [
            "   fixed acidity  volatile acidity  citric acid  residual sugar  chlorides  \\\n",
            "0            7.4              0.70         0.00             1.9      0.076   \n",
            "1            7.8              0.88         0.00             2.6      0.098   \n",
            "2            7.8              0.76         0.04             2.3      0.092   \n",
            "3           11.2              0.28         0.56             1.9      0.075   \n",
            "4            7.4              0.70         0.00             1.9      0.076   \n",
            "\n",
            "   free sulfur dioxide  total sulfur dioxide  density    pH  sulphates  \\\n",
            "0                 11.0                  34.0   0.9978  3.51       0.56   \n",
            "1                 25.0                  67.0   0.9968  3.20       0.68   \n",
            "2                 15.0                  54.0   0.9970  3.26       0.65   \n",
            "3                 17.0                  60.0   0.9980  3.16       0.58   \n",
            "4                 11.0                  34.0   0.9978  3.51       0.56   \n",
            "\n",
            "   alcohol  quality  \n",
            "0      9.4        5  \n",
            "1      9.8        5  \n",
            "2      9.8        5  \n",
            "3      9.8        6  \n",
            "4      9.4        5  \n"
          ]
        }
      ]
    },
    {
      "cell_type": "code",
      "source": [
        "#infos about the dataset\n",
        "print(wine_data.info())"
      ],
      "metadata": {
        "colab": {
          "base_uri": "https://localhost:8080/"
        },
        "id": "n0ZP0CEoZVQB",
        "outputId": "575c31b5-c2f2-4a6c-8ace-716b3acd7675"
      },
      "id": "n0ZP0CEoZVQB",
      "execution_count": null,
      "outputs": [
        {
          "output_type": "stream",
          "name": "stdout",
          "text": [
            "<class 'pandas.core.frame.DataFrame'>\n",
            "RangeIndex: 1599 entries, 0 to 1598\n",
            "Data columns (total 12 columns):\n",
            " #   Column                Non-Null Count  Dtype  \n",
            "---  ------                --------------  -----  \n",
            " 0   fixed acidity         1599 non-null   float64\n",
            " 1   volatile acidity      1599 non-null   float64\n",
            " 2   citric acid           1599 non-null   float64\n",
            " 3   residual sugar        1599 non-null   float64\n",
            " 4   chlorides             1599 non-null   float64\n",
            " 5   free sulfur dioxide   1599 non-null   float64\n",
            " 6   total sulfur dioxide  1599 non-null   float64\n",
            " 7   density               1599 non-null   float64\n",
            " 8   pH                    1599 non-null   float64\n",
            " 9   sulphates             1599 non-null   float64\n",
            " 10  alcohol               1599 non-null   float64\n",
            " 11  quality               1599 non-null   int64  \n",
            "dtypes: float64(11), int64(1)\n",
            "memory usage: 150.0 KB\n",
            "None\n"
          ]
        }
      ]
    },
    {
      "cell_type": "code",
      "source": [
        "#descriptive statistics\n",
        "print(wine_data.describe())\n",
        "#you have the mean, sd, min and max of data that composed each columns."
      ],
      "metadata": {
        "colab": {
          "base_uri": "https://localhost:8080/"
        },
        "id": "0_zewCqpZbwF",
        "outputId": "6c30f15a-d275-4d06-a774-ee910ebdd3f4"
      },
      "id": "0_zewCqpZbwF",
      "execution_count": null,
      "outputs": [
        {
          "output_type": "stream",
          "name": "stdout",
          "text": [
            "       fixed acidity  volatile acidity  citric acid  residual sugar  \\\n",
            "count    1599.000000       1599.000000  1599.000000     1599.000000   \n",
            "mean        8.319637          0.527821     0.270976        2.538806   \n",
            "std         1.741096          0.179060     0.194801        1.409928   \n",
            "min         4.600000          0.120000     0.000000        0.900000   \n",
            "25%         7.100000          0.390000     0.090000        1.900000   \n",
            "50%         7.900000          0.520000     0.260000        2.200000   \n",
            "75%         9.200000          0.640000     0.420000        2.600000   \n",
            "max        15.900000          1.580000     1.000000       15.500000   \n",
            "\n",
            "         chlorides  free sulfur dioxide  total sulfur dioxide      density  \\\n",
            "count  1599.000000          1599.000000           1599.000000  1599.000000   \n",
            "mean      0.087467            15.874922             46.467792     0.996747   \n",
            "std       0.047065            10.460157             32.895324     0.001887   \n",
            "min       0.012000             1.000000              6.000000     0.990070   \n",
            "25%       0.070000             7.000000             22.000000     0.995600   \n",
            "50%       0.079000            14.000000             38.000000     0.996750   \n",
            "75%       0.090000            21.000000             62.000000     0.997835   \n",
            "max       0.611000            72.000000            289.000000     1.003690   \n",
            "\n",
            "                pH    sulphates      alcohol      quality  \n",
            "count  1599.000000  1599.000000  1599.000000  1599.000000  \n",
            "mean      3.311113     0.658149    10.422983     5.636023  \n",
            "std       0.154386     0.169507     1.065668     0.807569  \n",
            "min       2.740000     0.330000     8.400000     3.000000  \n",
            "25%       3.210000     0.550000     9.500000     5.000000  \n",
            "50%       3.310000     0.620000    10.200000     6.000000  \n",
            "75%       3.400000     0.730000    11.100000     6.000000  \n",
            "max       4.010000     2.000000    14.900000     8.000000  \n"
          ]
        }
      ]
    },
    {
      "cell_type": "code",
      "source": [
        "# checking for missing values\n",
        "print(wine_data.isnull().sum())\n",
        "# No missing value"
      ],
      "metadata": {
        "colab": {
          "base_uri": "https://localhost:8080/"
        },
        "id": "ftMGaib-Z2ci",
        "outputId": "30f7c681-a1f0-4217-a847-f447712029e0"
      },
      "id": "ftMGaib-Z2ci",
      "execution_count": null,
      "outputs": [
        {
          "output_type": "stream",
          "name": "stdout",
          "text": [
            "fixed acidity           0\n",
            "volatile acidity        0\n",
            "citric acid             0\n",
            "residual sugar          0\n",
            "chlorides               0\n",
            "free sulfur dioxide     0\n",
            "total sulfur dioxide    0\n",
            "density                 0\n",
            "pH                      0\n",
            "sulphates               0\n",
            "alcohol                 0\n",
            "quality                 0\n",
            "dtype: int64\n"
          ]
        }
      ]
    },
    {
      "cell_type": "markdown",
      "source": [
        "Step 2: Tasks and requirements\n"
      ],
      "metadata": {
        "id": "yhdluM2BKCO0"
      },
      "id": "yhdluM2BKCO0"
    },
    {
      "cell_type": "markdown",
      "source": [
        "1) Basic Python Programming"
      ],
      "metadata": {
        "id": "TgPuzxYjKMuY"
      },
      "id": "TgPuzxYjKMuY"
    },
    {
      "cell_type": "code",
      "source": [
        "#List, I'll extract the most important column\n",
        "columns = ['fixed acidity', 'volatile acidity', 'quality']\n",
        "print(columns)"
      ],
      "metadata": {
        "id": "NLO6p0X1KIg3",
        "outputId": "097dac1f-a353-4536-9c68-085b44dc418f",
        "colab": {
          "base_uri": "https://localhost:8080/"
        }
      },
      "id": "NLO6p0X1KIg3",
      "execution_count": null,
      "outputs": [
        {
          "output_type": "stream",
          "name": "stdout",
          "text": [
            "['fixed acidity', 'volatile acidity', 'quality']\n"
          ]
        }
      ]
    },
    {
      "cell_type": "code",
      "source": [
        "# Dictionary, I'll stock the number of wine according to their quality\n",
        "quality_threshold = 7\n",
        "wine_quality = {'high_quality': 0, 'low_quality': 0}\n",
        "print(wine_quality)\n",
        "\n",
        "\n"
      ],
      "metadata": {
        "id": "vpSriMp8KuG1",
        "outputId": "6c58c5c8-f7ed-4af8-a34a-343c137ca7e0",
        "colab": {
          "base_uri": "https://localhost:8080/"
        }
      },
      "id": "vpSriMp8KuG1",
      "execution_count": null,
      "outputs": [
        {
          "output_type": "stream",
          "name": "stdout",
          "text": [
            "{'high_quality': 0, 'low_quality': 0}\n"
          ]
        }
      ]
    },
    {
      "cell_type": "code",
      "source": [
        "#explanation\n",
        "# Define the quality threshold if a wine is considered ‘high quality’ its score has to be superior or equal to 7\n",
        "\n",
        "# Initialise a dictionary to count wines\n",
        "# The `wine_quality_count` dictionary will store the number of high quality wines and low_quality wines.\n",
        "\n",
        "# Browse the data in the df\n",
        "# For each row in the ‘quality’ column, check whether the score exceeds the threshold (7).\n",
        "# If it does, we increment the ‘high_quality’ counter, otherwise we increment ‘low_quality’.\n",
        "\n",
        "import pandas as pd\n",
        "\n",
        "wine_data = pd.read_csv('winequality-red.csv')\n",
        "\n",
        "\n",
        "print(wine_data.columns)\n",
        "\n",
        "quality_threshold = 7\n",
        "\n",
        "\n",
        "wine_quality_count = {'high_quality': 0, 'low_quality': 0}\n",
        "\n",
        "\n",
        "for quality in wine_data ['quality']:\n",
        "    if quality >= quality_threshold:\n",
        "        wine_quality_count['high_quality'] += 1\n",
        "    else:\n",
        "        wine_quality_count['low_quality'] += 1\n",
        "\n",
        "\n",
        "print(\"Wine count by quality :\", wine_quality_count)\n"
      ],
      "metadata": {
        "id": "WIJK6B1oL0cN",
        "outputId": "0d67fbfd-3edd-43ec-a8f5-269200138f8f",
        "colab": {
          "base_uri": "https://localhost:8080/"
        }
      },
      "id": "WIJK6B1oL0cN",
      "execution_count": null,
      "outputs": [
        {
          "output_type": "stream",
          "name": "stdout",
          "text": [
            "Index(['fixed acidity', 'volatile acidity', 'citric acid', 'residual sugar',\n",
            "       'chlorides', 'free sulfur dioxide', 'total sulfur dioxide', 'density',\n",
            "       'pH', 'sulphates', 'alcohol', 'quality'],\n",
            "      dtype='object')\n",
            "Wine count by quality : {'high_quality': 217, 'low_quality': 1382}\n"
          ]
        }
      ]
    },
    {
      "cell_type": "markdown",
      "source": [
        "Reusable code. I want to create a function that checks if a wine is good or low quality based of the threshold i've chosen."
      ],
      "metadata": {
        "id": "1I29SV1ySAHk"
      },
      "id": "1I29SV1ySAHk"
    },
    {
      "cell_type": "code",
      "source": [
        "#Explanation\n",
        "#check the quality of wine\n",
        "#Parameters: quality --> quality of the wine, threshold --> the default parameter to define good quality (superior or egal to 7)\n",
        "# Conditional test. If the quality >= 7, it will print the result \"high_quality\" or else the result \"low_quality\"\n",
        "def chek_wine_quality(quality, quality_threshold = 7):\n",
        "    if quality >= quality_threshold:\n",
        "        return 'high_quality'\n",
        "    else:\n",
        "        return 'low_quality'\n",
        "\n",
        "result = chek_wine_quality(5)\n",
        "print(result)\n",
        "\n"
      ],
      "metadata": {
        "id": "aTdJTsh-SVA7",
        "outputId": "f4852e25-aac0-43e1-cd3a-08405d94b478",
        "colab": {
          "base_uri": "https://localhost:8080/"
        }
      },
      "id": "aTdJTsh-SVA7",
      "execution_count": null,
      "outputs": [
        {
          "output_type": "stream",
          "name": "stdout",
          "text": [
            "low_quality\n"
          ]
        }
      ]
    },
    {
      "cell_type": "markdown",
      "source": [
        "# **2) Data Manipulation**"
      ],
      "metadata": {
        "id": "B2AZQKQAUew1"
      },
      "id": "B2AZQKQAUew1"
    },
    {
      "cell_type": "markdown",
      "source": [
        "Load and inspect the dataset"
      ],
      "metadata": {
        "id": "T0knNNF5U4py"
      },
      "id": "T0knNNF5U4py"
    },
    {
      "cell_type": "code",
      "source": [
        "#Load dataset and print the first rows to see the structure of dataset\n",
        "import pandas as pd\n",
        "wine_quality = pd.read_csv('winequality-red.csv')\n",
        "print(wine_quality.head())"
      ],
      "metadata": {
        "id": "-VIDE1R6Uj9G",
        "outputId": "92d88211-f5d7-49dc-da2d-1dc8ff94102f",
        "colab": {
          "base_uri": "https://localhost:8080/"
        }
      },
      "id": "-VIDE1R6Uj9G",
      "execution_count": null,
      "outputs": [
        {
          "output_type": "stream",
          "name": "stdout",
          "text": [
            "   fixed acidity  volatile acidity  citric acid  residual sugar  chlorides  \\\n",
            "0            7.4              0.70         0.00             1.9      0.076   \n",
            "1            7.8              0.88         0.00             2.6      0.098   \n",
            "2            7.8              0.76         0.04             2.3      0.092   \n",
            "3           11.2              0.28         0.56             1.9      0.075   \n",
            "4            7.4              0.70         0.00             1.9      0.076   \n",
            "\n",
            "   free sulfur dioxide  total sulfur dioxide  density    pH  sulphates  \\\n",
            "0                 11.0                  34.0   0.9978  3.51       0.56   \n",
            "1                 25.0                  67.0   0.9968  3.20       0.68   \n",
            "2                 15.0                  54.0   0.9970  3.26       0.65   \n",
            "3                 17.0                  60.0   0.9980  3.16       0.58   \n",
            "4                 11.0                  34.0   0.9978  3.51       0.56   \n",
            "\n",
            "   alcohol  quality  \n",
            "0      9.4        5  \n",
            "1      9.8        5  \n",
            "2      9.8        5  \n",
            "3      9.8        6  \n",
            "4      9.4        5  \n"
          ]
        }
      ]
    },
    {
      "cell_type": "code",
      "source": [
        "#Inspection\n",
        "#Show basic infos like the col names and types of data\n",
        "# Show the mean, sd, min and max value\n",
        "# show the count of null value for each col\n",
        "print(wine_quality.info())\n",
        "print(wine_quality.describe())\n",
        "print(wine_quality.isnull().sum(  ))"
      ],
      "metadata": {
        "id": "ZSox-LnEVTBN",
        "outputId": "df42ca55-28ee-488f-a9b6-2c8366fb6c00",
        "colab": {
          "base_uri": "https://localhost:8080/"
        }
      },
      "id": "ZSox-LnEVTBN",
      "execution_count": null,
      "outputs": [
        {
          "output_type": "stream",
          "name": "stdout",
          "text": [
            "<class 'pandas.core.frame.DataFrame'>\n",
            "RangeIndex: 1599 entries, 0 to 1598\n",
            "Data columns (total 12 columns):\n",
            " #   Column                Non-Null Count  Dtype  \n",
            "---  ------                --------------  -----  \n",
            " 0   fixed acidity         1599 non-null   float64\n",
            " 1   volatile acidity      1599 non-null   float64\n",
            " 2   citric acid           1599 non-null   float64\n",
            " 3   residual sugar        1599 non-null   float64\n",
            " 4   chlorides             1599 non-null   float64\n",
            " 5   free sulfur dioxide   1599 non-null   float64\n",
            " 6   total sulfur dioxide  1599 non-null   float64\n",
            " 7   density               1599 non-null   float64\n",
            " 8   pH                    1599 non-null   float64\n",
            " 9   sulphates             1599 non-null   float64\n",
            " 10  alcohol               1599 non-null   float64\n",
            " 11  quality               1599 non-null   int64  \n",
            "dtypes: float64(11), int64(1)\n",
            "memory usage: 150.0 KB\n",
            "None\n",
            "       fixed acidity  volatile acidity  citric acid  residual sugar  \\\n",
            "count    1599.000000       1599.000000  1599.000000     1599.000000   \n",
            "mean        8.319637          0.527821     0.270976        2.538806   \n",
            "std         1.741096          0.179060     0.194801        1.409928   \n",
            "min         4.600000          0.120000     0.000000        0.900000   \n",
            "25%         7.100000          0.390000     0.090000        1.900000   \n",
            "50%         7.900000          0.520000     0.260000        2.200000   \n",
            "75%         9.200000          0.640000     0.420000        2.600000   \n",
            "max        15.900000          1.580000     1.000000       15.500000   \n",
            "\n",
            "         chlorides  free sulfur dioxide  total sulfur dioxide      density  \\\n",
            "count  1599.000000          1599.000000           1599.000000  1599.000000   \n",
            "mean      0.087467            15.874922             46.467792     0.996747   \n",
            "std       0.047065            10.460157             32.895324     0.001887   \n",
            "min       0.012000             1.000000              6.000000     0.990070   \n",
            "25%       0.070000             7.000000             22.000000     0.995600   \n",
            "50%       0.079000            14.000000             38.000000     0.996750   \n",
            "75%       0.090000            21.000000             62.000000     0.997835   \n",
            "max       0.611000            72.000000            289.000000     1.003690   \n",
            "\n",
            "                pH    sulphates      alcohol      quality  \n",
            "count  1599.000000  1599.000000  1599.000000  1599.000000  \n",
            "mean      3.311113     0.658149    10.422983     5.636023  \n",
            "std       0.154386     0.169507     1.065668     0.807569  \n",
            "min       2.740000     0.330000     8.400000     3.000000  \n",
            "25%       3.210000     0.550000     9.500000     5.000000  \n",
            "50%       3.310000     0.620000    10.200000     6.000000  \n",
            "75%       3.400000     0.730000    11.100000     6.000000  \n",
            "max       4.010000     2.000000    14.900000     8.000000  \n",
            "fixed acidity           0\n",
            "volatile acidity        0\n",
            "citric acid             0\n",
            "residual sugar          0\n",
            "chlorides               0\n",
            "free sulfur dioxide     0\n",
            "total sulfur dioxide    0\n",
            "density                 0\n",
            "pH                      0\n",
            "sulphates               0\n",
            "alcohol                 0\n",
            "quality                 0\n",
            "dtype: int64\n"
          ]
        }
      ]
    },
    {
      "cell_type": "markdown",
      "source": [
        "Clean the dataset by handling missing values and duplicates."
      ],
      "metadata": {
        "id": "GwWWu0GxXM4D"
      },
      "id": "GwWWu0GxXM4D"
    },
    {
      "cell_type": "code",
      "source": [
        "# If I've missing values inside my dataset I can remove them or fill them with appropriate values\n",
        "wine_cleaned = wine_quality.dropna()\n",
        "#I've dropped rows with missing values\n",
        "\n",
        "print(wine_cleaned.isnull().sum())\n",
        "# I want to be sure there are not missing values anymore, and it's good"
      ],
      "metadata": {
        "id": "_QBSA84jXOu_",
        "outputId": "0b7f416d-b4b8-433b-c3dc-36e55d306680",
        "colab": {
          "base_uri": "https://localhost:8080/"
        }
      },
      "id": "_QBSA84jXOu_",
      "execution_count": null,
      "outputs": [
        {
          "output_type": "stream",
          "name": "stdout",
          "text": [
            "fixed acidity           0\n",
            "volatile acidity        0\n",
            "citric acid             0\n",
            "residual sugar          0\n",
            "chlorides               0\n",
            "free sulfur dioxide     0\n",
            "total sulfur dioxide    0\n",
            "density                 0\n",
            "pH                      0\n",
            "sulphates               0\n",
            "alcohol                 0\n",
            "quality                 0\n",
            "dtype: int64\n"
          ]
        }
      ]
    },
    {
      "cell_type": "code",
      "source": [
        "# Or I could fil out the missing value by certain value like the mean\n",
        "wine_cleaned = wine_quality.fillna(wine_quality.mean())\n",
        "print(wine_cleaned.isnull().sum())"
      ],
      "metadata": {
        "id": "0T1-t6L6YQHM",
        "outputId": "0627e0d6-a0c2-4a90-828f-83f457229f07",
        "colab": {
          "base_uri": "https://localhost:8080/"
        }
      },
      "id": "0T1-t6L6YQHM",
      "execution_count": null,
      "outputs": [
        {
          "output_type": "stream",
          "name": "stdout",
          "text": [
            "fixed acidity           0\n",
            "volatile acidity        0\n",
            "citric acid             0\n",
            "residual sugar          0\n",
            "chlorides               0\n",
            "free sulfur dioxide     0\n",
            "total sulfur dioxide    0\n",
            "density                 0\n",
            "pH                      0\n",
            "sulphates               0\n",
            "alcohol                 0\n",
            "quality                 0\n",
            "dtype: int64\n"
          ]
        }
      ]
    },
    {
      "cell_type": "code",
      "source": [
        "#Duplicated rows. Check and remove them\n",
        "wine_cleaned = wine_quality.drop_duplicates()\n",
        "print(f\"Number of duplicate rows: {wine_cleaned.duplicated().sum()}\")\n",
        "\n",
        "#There is not duplicated row in the database\n"
      ],
      "metadata": {
        "id": "92qj1G4baLuH",
        "outputId": "e5e152f7-9cde-47ba-d9de-f4f0ae1a16a1",
        "colab": {
          "base_uri": "https://localhost:8080/"
        }
      },
      "id": "92qj1G4baLuH",
      "execution_count": null,
      "outputs": [
        {
          "output_type": "stream",
          "name": "stdout",
          "text": [
            "Number of duplicate rows: 0\n"
          ]
        }
      ]
    },
    {
      "cell_type": "markdown",
      "source": [
        "Filter, sort, and group data to extract meaningful subsets or patterns."
      ],
      "metadata": {
        "id": "A4tDHVx-cGNC"
      },
      "id": "A4tDHVx-cGNC"
    },
    {
      "cell_type": "code",
      "source": [
        "# filter data\n",
        "# I want to find the high quality wine, so I've filtered them and print the five first\n",
        "hig_quality_wine = wine_cleaned[wine_cleaned['quality'] >= 7]\n",
        "print(hig_quality_wine.head())\n",
        "# And I want to know the number of them\n",
        "print(f\"Number of high quality wine: {hig_quality_wine.shape[0]}\")"
      ],
      "metadata": {
        "id": "ZAiWZ92QcHRW",
        "outputId": "5e55111a-3404-4f85-c7ee-53bfac8cc534",
        "colab": {
          "base_uri": "https://localhost:8080/"
        }
      },
      "id": "ZAiWZ92QcHRW",
      "execution_count": null,
      "outputs": [
        {
          "output_type": "stream",
          "name": "stdout",
          "text": [
            "    fixed acidity  volatile acidity  citric acid  residual sugar  chlorides  \\\n",
            "7             7.3              0.65         0.00             1.2      0.065   \n",
            "8             7.8              0.58         0.02             2.0      0.073   \n",
            "16            8.5              0.28         0.56             1.8      0.092   \n",
            "37            8.1              0.38         0.28             2.1      0.066   \n",
            "62            7.5              0.52         0.16             1.9      0.085   \n",
            "\n",
            "    free sulfur dioxide  total sulfur dioxide  density    pH  sulphates  \\\n",
            "7                  15.0                  21.0   0.9946  3.39       0.47   \n",
            "8                   9.0                  18.0   0.9968  3.36       0.57   \n",
            "16                 35.0                 103.0   0.9969  3.30       0.75   \n",
            "37                 13.0                  30.0   0.9968  3.23       0.73   \n",
            "62                 12.0                  35.0   0.9968  3.38       0.62   \n",
            "\n",
            "    alcohol  quality  \n",
            "7      10.0        7  \n",
            "8       9.5        7  \n",
            "16     10.5        7  \n",
            "37      9.7        7  \n",
            "62      9.5        7  \n",
            "Number of high quality wine: 184\n"
          ]
        }
      ]
    },
    {
      "cell_type": "code",
      "source": [
        "#Sort data\n",
        "# Sort wines by alcohol level in descending order\n",
        "sorted_wines = wine_cleaned.sort_values(by='alcohol', ascending=False)\n",
        "print(sorted_wines.head())\n"
      ],
      "metadata": {
        "id": "NEKrZJdmdEDa",
        "outputId": "09135247-d49e-4f6a-9c83-f31d62d1fef2",
        "colab": {
          "base_uri": "https://localhost:8080/"
        }
      },
      "id": "NEKrZJdmdEDa",
      "execution_count": null,
      "outputs": [
        {
          "output_type": "stream",
          "name": "stdout",
          "text": [
            "      fixed acidity  volatile acidity  citric acid  residual sugar  chlorides  \\\n",
            "652            15.9              0.36         0.65             7.5      0.096   \n",
            "1270            5.0              0.38         0.01             1.6      0.048   \n",
            "588             5.0              0.42         0.24             2.0      0.060   \n",
            "467             8.8              0.46         0.45             2.6      0.065   \n",
            "821             4.9              0.42         0.00             2.1      0.048   \n",
            "\n",
            "      free sulfur dioxide  total sulfur dioxide  density    pH  sulphates  \\\n",
            "652                  22.0                  71.0  0.99760  2.98       0.84   \n",
            "1270                 26.0                  60.0  0.99084  3.70       0.75   \n",
            "588                  19.0                  50.0  0.99170  3.72       0.74   \n",
            "467                   7.0                  18.0  0.99470  3.32       0.79   \n",
            "821                  16.0                  42.0  0.99154  3.71       0.74   \n",
            "\n",
            "      alcohol  quality  \n",
            "652      14.9        5  \n",
            "1270     14.0        6  \n",
            "588      14.0        8  \n",
            "467      14.0        6  \n",
            "821      14.0        7  \n"
          ]
        }
      ]
    },
    {
      "cell_type": "code",
      "source": [
        "#Group data\n",
        "# I want to know the average alcohol level according to the quality of wine. So I use the groupby fonction.\n",
        "average_alcohol_per_quality = wine_cleaned.groupby('quality')['alcohol'].mean()\n",
        "print(average_alcohol_per_quality)"
      ],
      "metadata": {
        "id": "K9uRmd39dmta",
        "outputId": "1b65cbd4-639c-4f66-da1a-0ff9af8f84be",
        "colab": {
          "base_uri": "https://localhost:8080/"
        }
      },
      "id": "K9uRmd39dmta",
      "execution_count": null,
      "outputs": [
        {
          "output_type": "stream",
          "name": "stdout",
          "text": [
            "quality\n",
            "3     9.955000\n",
            "4    10.265094\n",
            "5     9.888562\n",
            "6    10.658879\n",
            "7    11.491118\n",
            "8    12.158824\n",
            "Name: alcohol, dtype: float64\n"
          ]
        }
      ]
    },
    {
      "cell_type": "markdown",
      "source": [
        "# **3) Mathematical Operations**"
      ],
      "metadata": {
        "id": "T4YGl7SlfMXa"
      },
      "id": "T4YGl7SlfMXa"
    },
    {
      "cell_type": "code",
      "source": [
        "# sum\n",
        "# Compute the total of residual sugar\n",
        "total_residual_sugar = wine_cleaned['residual sugar'].sum()\n",
        "print(f\"Total residual sugar: {total_residual_sugar}\")"
      ],
      "metadata": {
        "id": "-bPx8KmlfSCx",
        "outputId": "39a47e08-87d7-4d1a-a60a-3c7d38c2f409",
        "colab": {
          "base_uri": "https://localhost:8080/"
        }
      },
      "id": "-bPx8KmlfSCx",
      "execution_count": null,
      "outputs": [
        {
          "output_type": "stream",
          "name": "stdout",
          "text": [
            "Total residual sugar: 3429.3\n"
          ]
        }
      ]
    },
    {
      "cell_type": "code",
      "source": [
        "#average\n",
        "# compute the average PH\n",
        "average_ph = wine_cleaned['pH'].mean()\n",
        "print(f\"Average pH: {average_ph}\")"
      ],
      "metadata": {
        "id": "3D7NA6hhgzJx",
        "outputId": "a65deeec-4991-46c9-9a8e-b87e3d68ed44",
        "colab": {
          "base_uri": "https://localhost:8080/"
        }
      },
      "id": "3D7NA6hhgzJx",
      "execution_count": null,
      "outputs": [
        {
          "output_type": "stream",
          "name": "stdout",
          "text": [
            "Average pH: 3.309786607799853\n"
          ]
        }
      ]
    },
    {
      "cell_type": "code",
      "source": [
        "#percentage\n",
        "# I want to know the proportion of high-quality wine over the total amount of wine\n",
        "# I count the total of wine, the total of high quality wine\n",
        "#I divide the count of high quality by the total number of wine and multiplied by 100 to hav a percentage\n",
        "total_wine = len(wine_cleaned)\n",
        "high_quality_wine = len(wine_cleaned[wine_cleaned['quality'] >= 7])\n",
        "proportion_high_quality = (high_quality_wine / total_wine) * 100\n",
        "print(f\"Proportion of high-quality wine: {proportion_high_quality}%\")"
      ],
      "metadata": {
        "id": "6WSlTcX3g8Wl",
        "outputId": "f80612a8-e2fb-4fe8-c241-dd0a33776f33",
        "colab": {
          "base_uri": "https://localhost:8080/"
        }
      },
      "id": "6WSlTcX3g8Wl",
      "execution_count": null,
      "outputs": [
        {
          "output_type": "stream",
          "name": "stdout",
          "text": [
            "Proportion of high-quality wine: 13.539367181751288%\n"
          ]
        }
      ]
    },
    {
      "cell_type": "code",
      "source": [
        "# Maximum and minimum\n",
        "#find maximum and minimum fixed acidity level\n",
        "max_acidity = wine_cleaned['fixed acidity'].max()\n",
        "min_acidity = wine_cleaned['fixed acidity'].min()\n",
        "print(f\"Maximum fixed acidity: {max_acidity}\")\n",
        "print(f\"Minimum fixed acidity: {min_acidity}\")\n"
      ],
      "metadata": {
        "id": "_vfGUB7KirUt",
        "outputId": "d7e9fca0-da6e-4b85-c32c-7b8a665d13ec",
        "colab": {
          "base_uri": "https://localhost:8080/"
        }
      },
      "id": "_vfGUB7KirUt",
      "execution_count": null,
      "outputs": [
        {
          "output_type": "stream",
          "name": "stdout",
          "text": [
            "Maximum fixed acidity: 15.9\n",
            "Minimum fixed acidity: 4.6\n"
          ]
        }
      ]
    },
    {
      "cell_type": "code",
      "source": [
        "#median\n",
        "#I want the median across suphrate level\n",
        "median_suphrate = wine_cleaned['sulphates'].median()\n",
        "print(f\"Median sulphates level: {median_suphrate}\")"
      ],
      "metadata": {
        "id": "6XIbnQYdkhQz",
        "outputId": "2221e4c9-6690-41a5-d0a8-3ac6dc96fe65",
        "colab": {
          "base_uri": "https://localhost:8080/"
        }
      },
      "id": "6XIbnQYdkhQz",
      "execution_count": null,
      "outputs": [
        {
          "output_type": "stream",
          "name": "stdout",
          "text": [
            "Median sulphates level: 0.62\n"
          ]
        }
      ]
    },
    {
      "cell_type": "code",
      "source": [
        "#range\n",
        "#I want the range of densitiy levels\n",
        "density_range = wine_cleaned['density'].max() - wine_cleaned['density'].min()\n",
        "print(f\"Density range: {density_range}\")\n",
        "#"
      ],
      "metadata": {
        "id": "nG2Y8iNxk6Bh",
        "outputId": "ebf0488b-3ca3-44be-b0cf-2bcf3275c1e8",
        "colab": {
          "base_uri": "https://localhost:8080/"
        }
      },
      "id": "nG2Y8iNxk6Bh",
      "execution_count": null,
      "outputs": [
        {
          "output_type": "stream",
          "name": "stdout",
          "text": [
            "Density range: 0.013619999999999965\n"
          ]
        }
      ]
    },
    {
      "cell_type": "code",
      "source": [
        "#Aggregation of multiple columns\n",
        "# Calculate the sum and mean for 'fixed acidity' and 'volatile acidity'\n",
        "aggregations = wine_cleaned.agg({'fixed acidity': ['sum', 'mean'], 'volatile acidity': ['sum', 'mean']})\n",
        "print(aggregations)"
      ],
      "metadata": {
        "id": "2d4x8FI_lHw9",
        "outputId": "1a9f761c-46c5-4360-d6de-993cd8d827c6",
        "colab": {
          "base_uri": "https://localhost:8080/"
        }
      },
      "id": "2d4x8FI_lHw9",
      "execution_count": null,
      "outputs": [
        {
          "output_type": "stream",
          "name": "stdout",
          "text": [
            "      fixed acidity  volatile acidity\n",
            "sum    11294.100000        719.560000\n",
            "mean       8.310596          0.529478\n"
          ]
        }
      ]
    },
    {
      "cell_type": "code",
      "source": [
        "#Ratio\n",
        "# Ratio of alcohol level according to residual sugar\n",
        "# By row, you divide the level of alcohol by the level of residual sugar\n",
        "#put it in a new col\n",
        "\n",
        "wine_cleaned['alcohol_to_residual_sugar_ratio'] = wine_cleaned['alcohol'] / wine_cleaned['residual sugar']\n",
        "print(wine_cleaned.head())"
      ],
      "metadata": {
        "id": "OoOlIVrZlS5Y",
        "outputId": "79827fb4-9967-44fa-f9ed-c17904005120",
        "colab": {
          "base_uri": "https://localhost:8080/"
        }
      },
      "id": "OoOlIVrZlS5Y",
      "execution_count": null,
      "outputs": [
        {
          "output_type": "stream",
          "name": "stdout",
          "text": [
            "   fixed acidity  volatile acidity  citric acid  residual sugar  chlorides  \\\n",
            "0            7.4              0.70         0.00             1.9      0.076   \n",
            "1            7.8              0.88         0.00             2.6      0.098   \n",
            "2            7.8              0.76         0.04             2.3      0.092   \n",
            "3           11.2              0.28         0.56             1.9      0.075   \n",
            "5            7.4              0.66         0.00             1.8      0.075   \n",
            "\n",
            "   free sulfur dioxide  total sulfur dioxide  density    pH  sulphates  \\\n",
            "0                 11.0                  34.0   0.9978  3.51       0.56   \n",
            "1                 25.0                  67.0   0.9968  3.20       0.68   \n",
            "2                 15.0                  54.0   0.9970  3.26       0.65   \n",
            "3                 17.0                  60.0   0.9980  3.16       0.58   \n",
            "5                 13.0                  40.0   0.9978  3.51       0.56   \n",
            "\n",
            "   alcohol  quality  alcohol_to_residual_sugar_ratio  \n",
            "0      9.4        5                         4.947368  \n",
            "1      9.8        5                         3.769231  \n",
            "2      9.8        5                         4.260870  \n",
            "3      9.8        6                         5.157895  \n",
            "5      9.4        5                         5.222222  \n"
          ]
        },
        {
          "output_type": "stream",
          "name": "stderr",
          "text": [
            "<ipython-input-55-fc5666b4a4ca>:6: SettingWithCopyWarning: \n",
            "A value is trying to be set on a copy of a slice from a DataFrame.\n",
            "Try using .loc[row_indexer,col_indexer] = value instead\n",
            "\n",
            "See the caveats in the documentation: https://pandas.pydata.org/pandas-docs/stable/user_guide/indexing.html#returning-a-view-versus-a-copy\n",
            "  wine_cleaned['alcohol_to_residual_sugar_ratio'] = wine_cleaned['alcohol'] / wine_cleaned['residual sugar']\n"
          ]
        }
      ]
    },
    {
      "cell_type": "markdown",
      "source": [
        "# **4) Data vizualisation**"
      ],
      "metadata": {
        "id": "VfKlfbZyoCeJ"
      },
      "id": "VfKlfbZyoCeJ"
    },
    {
      "cell_type": "code",
      "source": [
        "#Bar chart\n",
        "# I want to see the number of wine for each quality scores\n",
        "# the horizontal axis is the quality of wine, the vertical one represent the count of wine\n",
        "# count the number of wines for each quality score\n",
        "quality_counts = wine_cleaned['quality'].value_counts().sort_index()\n",
        "#I define the size of the bar, the key element and the color\n",
        "plt.figure (figsize=(10,6))\n",
        "plt.bar(quality_counts.index, quality_counts.values, color =\"skyblue\")\n",
        "\n",
        "#I define the x axis, the y axis, the title of the chart\n",
        "plt.xlabel('Quality')\n",
        "plt.ylabel('Count')\n",
        "plt.title('Distribution of Wine Quality')\n",
        "plt.show()\n",
        "\n",
        "#You can see that the wine is normally distributed, and the quality category that are most represented are 5 and 6, not so good quality for my study.\n"
      ],
      "metadata": {
        "id": "5ggxZVafoH0M",
        "outputId": "30d76cf5-d963-41dd-f217-64aa41896543",
        "colab": {
          "base_uri": "https://localhost:8080/",
          "height": 564
        }
      },
      "id": "5ggxZVafoH0M",
      "execution_count": null,
      "outputs": [
        {
          "output_type": "display_data",
          "data": {
            "text/plain": [
              "<Figure size 1000x600 with 1 Axes>"
            ],
            "image/png": "[encoded data removed]"
          },
          "metadata": {}
        }
      ]
    },
    {
      "cell_type": "code",
      "source": [
        "#Scatter plot\n",
        "# I want to see the relation between alcohol level and quality\n",
        "plt.figure(figsize=(10, 6))\n",
        "plt.scatter(wine_cleaned['alcohol'], wine_cleaned['quality'],alpha=0.7, color='skyblue')\n",
        "\n",
        "#Define the axis, the title\n",
        "plt.xlabel('Quality Score')\n",
        "plt.ylabel('Alcohol Level')\n",
        "plt.title('Alcohol Level vs. Quality Score')\n",
        "\n",
        "#I put a grid in the back, to have a more readable plot\n",
        "plt.grid(alpha=0.5, linestyle='--')\n",
        "plt.show()"
      ],
      "metadata": {
        "id": "Rhe-C22ysh8w",
        "outputId": "e75b9875-db17-4710-f75c-2635ff9766ea",
        "colab": {
          "base_uri": "https://localhost:8080/",
          "height": 564
        }
      },
      "id": "Rhe-C22ysh8w",
      "execution_count": null,
      "outputs": [
        {
          "output_type": "display_data",
          "data": {
            "text/plain": [
              "<Figure size 1000x600 with 1 Axes>"
            ],
            "image/png": "[encoded data removed]"
          },
          "metadata": {}
        }
      ]
    },
    {
      "cell_type": "code",
      "source": [
        "#heatmap\n",
        "# I want to see the relation between alcohol level and the quality of the wine\n",
        "#I put quality on the rows, the values of the matrix are the alcohol level, aggfunc = mean --> if multiple entries exits for\n",
        "# a alcohol-quality combinaton, it take the means of alcohol level\n",
        "heatmap_data = wine_cleaned.pivot_table(values='alcohol', index='quality', aggfunc='mean')\n",
        "heatmap_data = heatmap_data.reset_index()\n",
        "\n",
        "# annot=TRUE, displays the levels inside each cell of the heatmap, it's more readable\n",
        "#fmt=.2F, the level will take 2 decimal points\n",
        "#cmap =\"YlGnBu\" it's for the color palette for the graduation from Yellow to Green to Blue, lower to higher\n",
        "plt.figure(figsize=(10, 6))\n",
        "sns.heatmap(\n",
        "    heatmap_data.set_index(\"quality\"),\n",
        "    annot=True,\n",
        "    fmt=\".2f\",\n",
        "    cmap=\"YlGnBu\" )\n",
        "\n",
        "\n",
        "plt.title('Average Alcohol Level by Quality Score')\n",
        "plt.xlabel('Feature')\n",
        "plt.ylabel('Quality')\n",
        "plt.show()"
      ],
      "metadata": {
        "id": "Z2-CWvqFyS7n",
        "outputId": "08a95b2a-8bd4-4eef-d795-0034afee9045",
        "colab": {
          "base_uri": "https://localhost:8080/",
          "height": 569
        }
      },
      "id": "Z2-CWvqFyS7n",
      "execution_count": null,
      "outputs": [
        {
          "output_type": "display_data",
          "data": {
            "text/plain": [
              "<Figure size 1000x600 with 2 Axes>"
            ],
            "image/png": "[encoded data removed]"
          },
          "metadata": {}
        }
      ]
    },
    {
      "cell_type": "markdown",
      "source": [
        "# **5) SQL Integration**"
      ],
      "metadata": {
        "id": "CeaUhIm81E0H"
      },
      "id": "CeaUhIm81E0H"
    },
    {
      "cell_type": "code",
      "source": [
        "pip install sqlalchemy"
      ],
      "metadata": {
        "id": "yXOQzIcR1KKS",
        "outputId": "e9f14b1c-4fbc-473a-a2f7-5ea8f93dc127",
        "colab": {
          "base_uri": "https://localhost:8080/"
        }
      },
      "id": "yXOQzIcR1KKS",
      "execution_count": null,
      "outputs": [
        {
          "output_type": "stream",
          "name": "stdout",
          "text": [
            "Requirement already satisfied: sqlalchemy in /usr/local/lib/python3.11/dist-packages (2.0.37)\n",
            "Requirement already satisfied: greenlet!=0.4.17 in /usr/local/lib/python3.11/dist-packages (from sqlalchemy) (3.1.1)\n",
            "Requirement already satisfied: typing-extensions>=4.6.0 in /usr/local/lib/python3.11/dist-packages (from sqlalchemy) (4.12.2)\n"
          ]
        }
      ]
    },
    {
      "cell_type": "code",
      "source": [
        "#Create a database and store data\n",
        "import pandas as pd\n",
        "from sqlalchemy import create_engine\n",
        "#This connects to a file-based SQLite database in the current working directory\n",
        "db_url = 'sqlite:///wine_quality.db'\n",
        "engine = create_engine(db_url, echo=True)\n",
        "wine_cleaned.to_sql('wine_quality', engine, if_exists='replace', index=False)\n",
        "print(\"Data stored in the database\")"
      ],
      "metadata": {
        "id": "R69t7xQx14RL",
        "outputId": "b16ac122-3de1-4b78-890e-b7ed579502c7",
        "colab": {
          "base_uri": "https://localhost:8080/"
        }
      },
      "id": "R69t7xQx14RL",
      "execution_count": null,
      "outputs": [
        {
          "output_type": "stream",
          "name": "stdout",
          "text": [
            "2025-01-22 16:32:25,503 INFO sqlalchemy.engine.Engine BEGIN (implicit)\n"
          ]
        },
        {
          "output_type": "stream",
          "name": "stderr",
          "text": [
            "INFO:sqlalchemy.engine.Engine:BEGIN (implicit)\n"
          ]
        },
        {
          "output_type": "stream",
          "name": "stdout",
          "text": [
            "2025-01-22 16:32:25,510 INFO sqlalchemy.engine.Engine PRAGMA main.table_info(\"wine_quality\")\n"
          ]
        },
        {
          "output_type": "stream",
          "name": "stderr",
          "text": [
            "INFO:sqlalchemy.engine.Engine:PRAGMA main.table_info(\"wine_quality\")\n"
          ]
        },
        {
          "output_type": "stream",
          "name": "stdout",
          "text": [
            "2025-01-22 16:32:25,513 INFO sqlalchemy.engine.Engine [raw sql] ()\n"
          ]
        },
        {
          "output_type": "stream",
          "name": "stderr",
          "text": [
            "INFO:sqlalchemy.engine.Engine:[raw sql] ()\n"
          ]
        },
        {
          "output_type": "stream",
          "name": "stdout",
          "text": [
            "2025-01-22 16:32:25,519 INFO sqlalchemy.engine.Engine PRAGMA main.table_info(\"wine_quality\")\n"
          ]
        },
        {
          "output_type": "stream",
          "name": "stderr",
          "text": [
            "INFO:sqlalchemy.engine.Engine:PRAGMA main.table_info(\"wine_quality\")\n"
          ]
        },
        {
          "output_type": "stream",
          "name": "stdout",
          "text": [
            "2025-01-22 16:32:25,523 INFO sqlalchemy.engine.Engine [raw sql] ()\n"
          ]
        },
        {
          "output_type": "stream",
          "name": "stderr",
          "text": [
            "INFO:sqlalchemy.engine.Engine:[raw sql] ()\n"
          ]
        },
        {
          "output_type": "stream",
          "name": "stdout",
          "text": [
            "2025-01-22 16:32:25,527 INFO sqlalchemy.engine.Engine SELECT name FROM sqlite_master WHERE type='table' AND name NOT LIKE 'sqlite~_%' ESCAPE '~' ORDER BY name\n"
          ]
        },
        {
          "output_type": "stream",
          "name": "stderr",
          "text": [
            "INFO:sqlalchemy.engine.Engine:SELECT name FROM sqlite_master WHERE type='table' AND name NOT LIKE 'sqlite~_%' ESCAPE '~' ORDER BY name\n"
          ]
        },
        {
          "output_type": "stream",
          "name": "stdout",
          "text": [
            "2025-01-22 16:32:25,529 INFO sqlalchemy.engine.Engine [raw sql] ()\n"
          ]
        },
        {
          "output_type": "stream",
          "name": "stderr",
          "text": [
            "INFO:sqlalchemy.engine.Engine:[raw sql] ()\n"
          ]
        },
        {
          "output_type": "stream",
          "name": "stdout",
          "text": [
            "2025-01-22 16:32:25,533 INFO sqlalchemy.engine.Engine SELECT name FROM sqlite_master WHERE type='view' AND name NOT LIKE 'sqlite~_%' ESCAPE '~' ORDER BY name\n"
          ]
        },
        {
          "output_type": "stream",
          "name": "stderr",
          "text": [
            "INFO:sqlalchemy.engine.Engine:SELECT name FROM sqlite_master WHERE type='view' AND name NOT LIKE 'sqlite~_%' ESCAPE '~' ORDER BY name\n"
          ]
        },
        {
          "output_type": "stream",
          "name": "stdout",
          "text": [
            "2025-01-22 16:32:25,535 INFO sqlalchemy.engine.Engine [raw sql] ()\n"
          ]
        },
        {
          "output_type": "stream",
          "name": "stderr",
          "text": [
            "INFO:sqlalchemy.engine.Engine:[raw sql] ()\n"
          ]
        },
        {
          "output_type": "stream",
          "name": "stdout",
          "text": [
            "2025-01-22 16:32:25,538 INFO sqlalchemy.engine.Engine PRAGMA main.table_xinfo(\"wine_quality\")\n"
          ]
        },
        {
          "output_type": "stream",
          "name": "stderr",
          "text": [
            "INFO:sqlalchemy.engine.Engine:PRAGMA main.table_xinfo(\"wine_quality\")\n"
          ]
        },
        {
          "output_type": "stream",
          "name": "stdout",
          "text": [
            "2025-01-22 16:32:25,540 INFO sqlalchemy.engine.Engine [raw sql] ()\n"
          ]
        },
        {
          "output_type": "stream",
          "name": "stderr",
          "text": [
            "INFO:sqlalchemy.engine.Engine:[raw sql] ()\n"
          ]
        },
        {
          "output_type": "stream",
          "name": "stdout",
          "text": [
            "2025-01-22 16:32:25,543 INFO sqlalchemy.engine.Engine SELECT sql FROM  (SELECT * FROM sqlite_master UNION ALL   SELECT * FROM sqlite_temp_master) WHERE name = ? AND type in ('table', 'view')\n"
          ]
        },
        {
          "output_type": "stream",
          "name": "stderr",
          "text": [
            "INFO:sqlalchemy.engine.Engine:SELECT sql FROM  (SELECT * FROM sqlite_master UNION ALL   SELECT * FROM sqlite_temp_master) WHERE name = ? AND type in ('table', 'view')\n"
          ]
        },
        {
          "output_type": "stream",
          "name": "stdout",
          "text": [
            "2025-01-22 16:32:25,551 INFO sqlalchemy.engine.Engine [raw sql] ('wine_quality',)\n"
          ]
        },
        {
          "output_type": "stream",
          "name": "stderr",
          "text": [
            "INFO:sqlalchemy.engine.Engine:[raw sql] ('wine_quality',)\n"
          ]
        },
        {
          "output_type": "stream",
          "name": "stdout",
          "text": [
            "2025-01-22 16:32:25,555 INFO sqlalchemy.engine.Engine PRAGMA main.foreign_key_list(\"wine_quality\")\n"
          ]
        },
        {
          "output_type": "stream",
          "name": "stderr",
          "text": [
            "INFO:sqlalchemy.engine.Engine:PRAGMA main.foreign_key_list(\"wine_quality\")\n"
          ]
        },
        {
          "output_type": "stream",
          "name": "stdout",
          "text": [
            "2025-01-22 16:32:25,565 INFO sqlalchemy.engine.Engine [raw sql] ()\n"
          ]
        },
        {
          "output_type": "stream",
          "name": "stderr",
          "text": [
            "INFO:sqlalchemy.engine.Engine:[raw sql] ()\n"
          ]
        },
        {
          "output_type": "stream",
          "name": "stdout",
          "text": [
            "2025-01-22 16:32:25,577 INFO sqlalchemy.engine.Engine PRAGMA temp.foreign_key_list(\"wine_quality\")\n"
          ]
        },
        {
          "output_type": "stream",
          "name": "stderr",
          "text": [
            "INFO:sqlalchemy.engine.Engine:PRAGMA temp.foreign_key_list(\"wine_quality\")\n"
          ]
        },
        {
          "output_type": "stream",
          "name": "stdout",
          "text": [
            "2025-01-22 16:32:25,580 INFO sqlalchemy.engine.Engine [raw sql] ()\n"
          ]
        },
        {
          "output_type": "stream",
          "name": "stderr",
          "text": [
            "INFO:sqlalchemy.engine.Engine:[raw sql] ()\n"
          ]
        },
        {
          "output_type": "stream",
          "name": "stdout",
          "text": [
            "2025-01-22 16:32:25,583 INFO sqlalchemy.engine.Engine SELECT sql FROM  (SELECT * FROM sqlite_master UNION ALL   SELECT * FROM sqlite_temp_master) WHERE name = ? AND type in ('table', 'view')\n"
          ]
        },
        {
          "output_type": "stream",
          "name": "stderr",
          "text": [
            "INFO:sqlalchemy.engine.Engine:SELECT sql FROM  (SELECT * FROM sqlite_master UNION ALL   SELECT * FROM sqlite_temp_master) WHERE name = ? AND type in ('table', 'view')\n"
          ]
        },
        {
          "output_type": "stream",
          "name": "stdout",
          "text": [
            "2025-01-22 16:32:25,585 INFO sqlalchemy.engine.Engine [raw sql] ('wine_quality',)\n"
          ]
        },
        {
          "output_type": "stream",
          "name": "stderr",
          "text": [
            "INFO:sqlalchemy.engine.Engine:[raw sql] ('wine_quality',)\n"
          ]
        },
        {
          "output_type": "stream",
          "name": "stdout",
          "text": [
            "2025-01-22 16:32:25,588 INFO sqlalchemy.engine.Engine PRAGMA main.index_list(\"wine_quality\")\n"
          ]
        },
        {
          "output_type": "stream",
          "name": "stderr",
          "text": [
            "INFO:sqlalchemy.engine.Engine:PRAGMA main.index_list(\"wine_quality\")\n"
          ]
        },
        {
          "output_type": "stream",
          "name": "stdout",
          "text": [
            "2025-01-22 16:32:25,590 INFO sqlalchemy.engine.Engine [raw sql] ()\n"
          ]
        },
        {
          "output_type": "stream",
          "name": "stderr",
          "text": [
            "INFO:sqlalchemy.engine.Engine:[raw sql] ()\n"
          ]
        },
        {
          "output_type": "stream",
          "name": "stdout",
          "text": [
            "2025-01-22 16:32:25,592 INFO sqlalchemy.engine.Engine PRAGMA temp.index_list(\"wine_quality\")\n"
          ]
        },
        {
          "output_type": "stream",
          "name": "stderr",
          "text": [
            "INFO:sqlalchemy.engine.Engine:PRAGMA temp.index_list(\"wine_quality\")\n"
          ]
        },
        {
          "output_type": "stream",
          "name": "stdout",
          "text": [
            "2025-01-22 16:32:25,594 INFO sqlalchemy.engine.Engine [raw sql] ()\n"
          ]
        },
        {
          "output_type": "stream",
          "name": "stderr",
          "text": [
            "INFO:sqlalchemy.engine.Engine:[raw sql] ()\n"
          ]
        },
        {
          "output_type": "stream",
          "name": "stdout",
          "text": [
            "2025-01-22 16:32:25,596 INFO sqlalchemy.engine.Engine PRAGMA main.table_info(\"wine_quality\")\n"
          ]
        },
        {
          "output_type": "stream",
          "name": "stderr",
          "text": [
            "INFO:sqlalchemy.engine.Engine:PRAGMA main.table_info(\"wine_quality\")\n"
          ]
        },
        {
          "output_type": "stream",
          "name": "stdout",
          "text": [
            "2025-01-22 16:32:25,598 INFO sqlalchemy.engine.Engine [raw sql] ()\n"
          ]
        },
        {
          "output_type": "stream",
          "name": "stderr",
          "text": [
            "INFO:sqlalchemy.engine.Engine:[raw sql] ()\n"
          ]
        },
        {
          "output_type": "stream",
          "name": "stdout",
          "text": [
            "2025-01-22 16:32:25,601 INFO sqlalchemy.engine.Engine PRAGMA main.index_list(\"wine_quality\")\n"
          ]
        },
        {
          "output_type": "stream",
          "name": "stderr",
          "text": [
            "INFO:sqlalchemy.engine.Engine:PRAGMA main.index_list(\"wine_quality\")\n"
          ]
        },
        {
          "output_type": "stream",
          "name": "stdout",
          "text": [
            "2025-01-22 16:32:25,604 INFO sqlalchemy.engine.Engine [raw sql] ()\n"
          ]
        },
        {
          "output_type": "stream",
          "name": "stderr",
          "text": [
            "INFO:sqlalchemy.engine.Engine:[raw sql] ()\n"
          ]
        },
        {
          "output_type": "stream",
          "name": "stdout",
          "text": [
            "2025-01-22 16:32:25,606 INFO sqlalchemy.engine.Engine PRAGMA temp.index_list(\"wine_quality\")\n"
          ]
        },
        {
          "output_type": "stream",
          "name": "stderr",
          "text": [
            "INFO:sqlalchemy.engine.Engine:PRAGMA temp.index_list(\"wine_quality\")\n"
          ]
        },
        {
          "output_type": "stream",
          "name": "stdout",
          "text": [
            "2025-01-22 16:32:25,608 INFO sqlalchemy.engine.Engine [raw sql] ()\n"
          ]
        },
        {
          "output_type": "stream",
          "name": "stderr",
          "text": [
            "INFO:sqlalchemy.engine.Engine:[raw sql] ()\n"
          ]
        },
        {
          "output_type": "stream",
          "name": "stdout",
          "text": [
            "2025-01-22 16:32:25,610 INFO sqlalchemy.engine.Engine PRAGMA main.table_info(\"wine_quality\")\n"
          ]
        },
        {
          "output_type": "stream",
          "name": "stderr",
          "text": [
            "INFO:sqlalchemy.engine.Engine:PRAGMA main.table_info(\"wine_quality\")\n"
          ]
        },
        {
          "output_type": "stream",
          "name": "stdout",
          "text": [
            "2025-01-22 16:32:25,612 INFO sqlalchemy.engine.Engine [raw sql] ()\n"
          ]
        },
        {
          "output_type": "stream",
          "name": "stderr",
          "text": [
            "INFO:sqlalchemy.engine.Engine:[raw sql] ()\n"
          ]
        },
        {
          "output_type": "stream",
          "name": "stdout",
          "text": [
            "2025-01-22 16:32:25,614 INFO sqlalchemy.engine.Engine SELECT sql FROM  (SELECT * FROM sqlite_master UNION ALL   SELECT * FROM sqlite_temp_master) WHERE name = ? AND type in ('table', 'view')\n"
          ]
        },
        {
          "output_type": "stream",
          "name": "stderr",
          "text": [
            "INFO:sqlalchemy.engine.Engine:SELECT sql FROM  (SELECT * FROM sqlite_master UNION ALL   SELECT * FROM sqlite_temp_master) WHERE name = ? AND type in ('table', 'view')\n"
          ]
        },
        {
          "output_type": "stream",
          "name": "stdout",
          "text": [
            "2025-01-22 16:32:25,616 INFO sqlalchemy.engine.Engine [raw sql] ('wine_quality',)\n"
          ]
        },
        {
          "output_type": "stream",
          "name": "stderr",
          "text": [
            "INFO:sqlalchemy.engine.Engine:[raw sql] ('wine_quality',)\n"
          ]
        },
        {
          "output_type": "stream",
          "name": "stdout",
          "text": [
            "2025-01-22 16:32:25,621 INFO sqlalchemy.engine.Engine \n",
            "DROP TABLE wine_quality\n"
          ]
        },
        {
          "output_type": "stream",
          "name": "stderr",
          "text": [
            "INFO:sqlalchemy.engine.Engine:\n",
            "DROP TABLE wine_quality\n"
          ]
        },
        {
          "output_type": "stream",
          "name": "stdout",
          "text": [
            "2025-01-22 16:32:25,623 INFO sqlalchemy.engine.Engine [no key 0.00225s] ()\n"
          ]
        },
        {
          "output_type": "stream",
          "name": "stderr",
          "text": [
            "INFO:sqlalchemy.engine.Engine:[no key 0.00225s] ()\n"
          ]
        },
        {
          "output_type": "stream",
          "name": "stdout",
          "text": [
            "2025-01-22 16:32:25,639 INFO sqlalchemy.engine.Engine \n",
            "CREATE TABLE wine_quality (\n",
            "\t\"fixed acidity\" FLOAT, \n",
            "\t\"volatile acidity\" FLOAT, \n",
            "\t\"citric acid\" FLOAT, \n",
            "\t\"residual sugar\" FLOAT, \n",
            "\tchlorides FLOAT, \n",
            "\t\"free sulfur dioxide\" FLOAT, \n",
            "\t\"total sulfur dioxide\" FLOAT, \n",
            "\tdensity FLOAT, \n",
            "\t\"pH\" FLOAT, \n",
            "\tsulphates FLOAT, \n",
            "\talcohol FLOAT, \n",
            "\tquality BIGINT, \n",
            "\talcohol_to_residual_sugar_ratio FLOAT\n",
            ")\n",
            "\n",
            "\n"
          ]
        },
        {
          "output_type": "stream",
          "name": "stderr",
          "text": [
            "INFO:sqlalchemy.engine.Engine:\n",
            "CREATE TABLE wine_quality (\n",
            "\t\"fixed acidity\" FLOAT, \n",
            "\t\"volatile acidity\" FLOAT, \n",
            "\t\"citric acid\" FLOAT, \n",
            "\t\"residual sugar\" FLOAT, \n",
            "\tchlorides FLOAT, \n",
            "\t\"free sulfur dioxide\" FLOAT, \n",
            "\t\"total sulfur dioxide\" FLOAT, \n",
            "\tdensity FLOAT, \n",
            "\t\"pH\" FLOAT, \n",
            "\tsulphates FLOAT, \n",
            "\talcohol FLOAT, \n",
            "\tquality BIGINT, \n",
            "\talcohol_to_residual_sugar_ratio FLOAT\n",
            ")\n",
            "\n",
            "\n"
          ]
        },
        {
          "output_type": "stream",
          "name": "stdout",
          "text": [
            "2025-01-22 16:32:25,642 INFO sqlalchemy.engine.Engine [no key 0.00226s] ()\n"
          ]
        },
        {
          "output_type": "stream",
          "name": "stderr",
          "text": [
            "INFO:sqlalchemy.engine.Engine:[no key 0.00226s] ()\n"
          ]
        },
        {
          "output_type": "stream",
          "name": "stdout",
          "text": [
            "2025-01-22 16:32:25,700 INFO sqlalchemy.engine.Engine INSERT INTO wine_quality (\"fixed acidity\", \"volatile acidity\", \"citric acid\", \"residual sugar\", chlorides, \"free sulfur dioxide\", \"total sulfur dioxide\", density, \"pH\", sulphates, alcohol, quality, alcohol_to_residual_sugar_ratio) VALUES (?, ?, ?, ?, ?, ?, ?, ?, ?, ?, ?, ?, ?)\n"
          ]
        },
        {
          "output_type": "stream",
          "name": "stderr",
          "text": [
            "INFO:sqlalchemy.engine.Engine:INSERT INTO wine_quality (\"fixed acidity\", \"volatile acidity\", \"citric acid\", \"residual sugar\", chlorides, \"free sulfur dioxide\", \"total sulfur dioxide\", density, \"pH\", sulphates, alcohol, quality, alcohol_to_residual_sugar_ratio) VALUES (?, ?, ?, ?, ?, ?, ?, ?, ?, ?, ?, ?, ?)\n"
          ]
        },
        {
          "output_type": "stream",
          "name": "stdout",
          "text": [
            "2025-01-22 16:32:25,704 INFO sqlalchemy.engine.Engine [generated in 0.04339s] [(7.4, 0.7, 0.0, 1.9, 0.076, 11.0, 34.0, 0.9978, 3.51, 0.56, 9.4, 5, 4.947368421052632), (7.8, 0.88, 0.0, 2.6, 0.098, 25.0, 67.0, 0.9968, 3.2, 0.68, 9.8, 5, 3.769230769230769), (7.8, 0.76, 0.04, 2.3, 0.092, 15.0, 54.0, 0.997, 3.26, 0.65, 9.8, 5, 4.260869565217392), (11.2, 0.28, 0.56, 1.9, 0.075, 17.0, 60.0, 0.998, 3.16, 0.58, 9.8, 6, 5.157894736842106), (7.4, 0.66, 0.0, 1.8, 0.075, 13.0, 40.0, 0.9978, 3.51, 0.56, 9.4, 5, 5.222222222222222), (7.9, 0.6, 0.06, 1.6, 0.069, 15.0, 59.0, 0.9964, 3.3, 0.46, 9.4, 5, 5.875), (7.3, 0.65, 0.0, 1.2, 0.065, 15.0, 21.0, 0.9946, 3.39, 0.47, 10.0, 7, 8.333333333333334), (7.8, 0.58, 0.02, 2.0, 0.073, 9.0, 18.0, 0.9968, 3.36, 0.57, 9.5, 7, 4.75)  ... displaying 10 of 1359 total bound parameter sets ...  (5.9, 0.645, 0.12, 2.0, 0.075, 32.0, 44.0, 0.99547, 3.57, 0.71, 10.2, 5, 5.1), (6.0, 0.31, 0.47, 3.6, 0.067, 18.0, 42.0, 0.99549, 3.39, 0.66, 11.0, 6, 3.0555555555555554)]\n"
          ]
        },
        {
          "output_type": "stream",
          "name": "stderr",
          "text": [
            "INFO:sqlalchemy.engine.Engine:[generated in 0.04339s] [(7.4, 0.7, 0.0, 1.9, 0.076, 11.0, 34.0, 0.9978, 3.51, 0.56, 9.4, 5, 4.947368421052632), (7.8, 0.88, 0.0, 2.6, 0.098, 25.0, 67.0, 0.9968, 3.2, 0.68, 9.8, 5, 3.769230769230769), (7.8, 0.76, 0.04, 2.3, 0.092, 15.0, 54.0, 0.997, 3.26, 0.65, 9.8, 5, 4.260869565217392), (11.2, 0.28, 0.56, 1.9, 0.075, 17.0, 60.0, 0.998, 3.16, 0.58, 9.8, 6, 5.157894736842106), (7.4, 0.66, 0.0, 1.8, 0.075, 13.0, 40.0, 0.9978, 3.51, 0.56, 9.4, 5, 5.222222222222222), (7.9, 0.6, 0.06, 1.6, 0.069, 15.0, 59.0, 0.9964, 3.3, 0.46, 9.4, 5, 5.875), (7.3, 0.65, 0.0, 1.2, 0.065, 15.0, 21.0, 0.9946, 3.39, 0.47, 10.0, 7, 8.333333333333334), (7.8, 0.58, 0.02, 2.0, 0.073, 9.0, 18.0, 0.9968, 3.36, 0.57, 9.5, 7, 4.75)  ... displaying 10 of 1359 total bound parameter sets ...  (5.9, 0.645, 0.12, 2.0, 0.075, 32.0, 44.0, 0.99547, 3.57, 0.71, 10.2, 5, 5.1), (6.0, 0.31, 0.47, 3.6, 0.067, 18.0, 42.0, 0.99549, 3.39, 0.66, 11.0, 6, 3.0555555555555554)]\n"
          ]
        },
        {
          "output_type": "stream",
          "name": "stdout",
          "text": [
            "2025-01-22 16:32:25,715 INFO sqlalchemy.engine.Engine COMMIT\n"
          ]
        },
        {
          "output_type": "stream",
          "name": "stderr",
          "text": [
            "INFO:sqlalchemy.engine.Engine:COMMIT\n"
          ]
        },
        {
          "output_type": "stream",
          "name": "stdout",
          "text": [
            "Data stored in the database\n"
          ]
        }
      ]
    },
    {
      "cell_type": "code",
      "source": [
        "#I can do some query to be sure it's working well\n",
        "query = \"SELECT * FROM wine_quality LIMIT 5\"\n",
        "result = pd.read_sql(query, engine)\n",
        "print(result)\n",
        "\n",
        "#Check the first five rows in the table"
      ],
      "metadata": {
        "id": "Kg6iBGkO3MrI",
        "outputId": "f3712679-40eb-4676-e304-af3b2c2d6b7e",
        "colab": {
          "base_uri": "https://localhost:8080/"
        }
      },
      "id": "Kg6iBGkO3MrI",
      "execution_count": null,
      "outputs": [
        {
          "output_type": "stream",
          "name": "stdout",
          "text": [
            "2025-01-22 16:34:08,823 INFO sqlalchemy.engine.Engine BEGIN (implicit)\n"
          ]
        },
        {
          "output_type": "stream",
          "name": "stderr",
          "text": [
            "INFO:sqlalchemy.engine.Engine:BEGIN (implicit)\n"
          ]
        },
        {
          "output_type": "stream",
          "name": "stdout",
          "text": [
            "2025-01-22 16:34:08,829 INFO sqlalchemy.engine.Engine PRAGMA main.table_info(\"SELECT * FROM wine_quality LIMIT 5\")\n"
          ]
        },
        {
          "output_type": "stream",
          "name": "stderr",
          "text": [
            "INFO:sqlalchemy.engine.Engine:PRAGMA main.table_info(\"SELECT * FROM wine_quality LIMIT 5\")\n"
          ]
        },
        {
          "output_type": "stream",
          "name": "stdout",
          "text": [
            "2025-01-22 16:34:08,837 INFO sqlalchemy.engine.Engine [raw sql] ()\n"
          ]
        },
        {
          "output_type": "stream",
          "name": "stderr",
          "text": [
            "INFO:sqlalchemy.engine.Engine:[raw sql] ()\n"
          ]
        },
        {
          "output_type": "stream",
          "name": "stdout",
          "text": [
            "2025-01-22 16:34:08,847 INFO sqlalchemy.engine.Engine PRAGMA temp.table_info(\"SELECT * FROM wine_quality LIMIT 5\")\n"
          ]
        },
        {
          "output_type": "stream",
          "name": "stderr",
          "text": [
            "INFO:sqlalchemy.engine.Engine:PRAGMA temp.table_info(\"SELECT * FROM wine_quality LIMIT 5\")\n"
          ]
        },
        {
          "output_type": "stream",
          "name": "stdout",
          "text": [
            "2025-01-22 16:34:08,862 INFO sqlalchemy.engine.Engine [raw sql] ()\n"
          ]
        },
        {
          "output_type": "stream",
          "name": "stderr",
          "text": [
            "INFO:sqlalchemy.engine.Engine:[raw sql] ()\n"
          ]
        },
        {
          "output_type": "stream",
          "name": "stdout",
          "text": [
            "2025-01-22 16:34:08,872 INFO sqlalchemy.engine.Engine SELECT * FROM wine_quality LIMIT 5\n"
          ]
        },
        {
          "output_type": "stream",
          "name": "stderr",
          "text": [
            "INFO:sqlalchemy.engine.Engine:SELECT * FROM wine_quality LIMIT 5\n"
          ]
        },
        {
          "output_type": "stream",
          "name": "stdout",
          "text": [
            "2025-01-22 16:34:08,880 INFO sqlalchemy.engine.Engine [raw sql] ()\n"
          ]
        },
        {
          "output_type": "stream",
          "name": "stderr",
          "text": [
            "INFO:sqlalchemy.engine.Engine:[raw sql] ()\n"
          ]
        },
        {
          "output_type": "stream",
          "name": "stdout",
          "text": [
            "2025-01-22 16:34:08,907 INFO sqlalchemy.engine.Engine ROLLBACK\n"
          ]
        },
        {
          "output_type": "stream",
          "name": "stderr",
          "text": [
            "INFO:sqlalchemy.engine.Engine:ROLLBACK\n"
          ]
        },
        {
          "output_type": "stream",
          "name": "stdout",
          "text": [
            "   fixed acidity  volatile acidity  citric acid  residual sugar  chlorides  \\\n",
            "0            7.4              0.70         0.00             1.9      0.076   \n",
            "1            7.8              0.88         0.00             2.6      0.098   \n",
            "2            7.8              0.76         0.04             2.3      0.092   \n",
            "3           11.2              0.28         0.56             1.9      0.075   \n",
            "4            7.4              0.66         0.00             1.8      0.075   \n",
            "\n",
            "   free sulfur dioxide  total sulfur dioxide  density    pH  sulphates  \\\n",
            "0                 11.0                  34.0   0.9978  3.51       0.56   \n",
            "1                 25.0                  67.0   0.9968  3.20       0.68   \n",
            "2                 15.0                  54.0   0.9970  3.26       0.65   \n",
            "3                 17.0                  60.0   0.9980  3.16       0.58   \n",
            "4                 13.0                  40.0   0.9978  3.51       0.56   \n",
            "\n",
            "   alcohol  quality  alcohol_to_residual_sugar_ratio  \n",
            "0      9.4        5                         4.947368  \n",
            "1      9.8        5                         3.769231  \n",
            "2      9.8        5                         4.260870  \n",
            "3      9.8        6                         5.157895  \n",
            "4      9.4        5                         5.222222  \n"
          ]
        }
      ]
    },
    {
      "cell_type": "code",
      "source": [
        "#Which wine qualities have the highest average alcohol content?\n",
        "# It selects quality, the average of alcohol by quality and group them by quality, in each row you have the quality and the average alcohol associated with\n",
        "# In descending order, strongest level of alcohol first\n",
        "query = \"SELECT quality, AVG(alcohol) AS avg_alcohol FROM wine_quality GROUP BY quality ORDER BY avg_alcohol DESC\"\n",
        "result = pd.read_sql(query, engine)\n",
        "print(result)"
      ],
      "metadata": {
        "id": "jSn_y8ME5ZEc",
        "outputId": "bf005afb-1b10-4041-abe3-e2678bc4d23b",
        "colab": {
          "base_uri": "https://localhost:8080/"
        }
      },
      "id": "jSn_y8ME5ZEc",
      "execution_count": null,
      "outputs": [
        {
          "output_type": "stream",
          "name": "stdout",
          "text": [
            "2025-01-22 16:50:53,037 INFO sqlalchemy.engine.Engine BEGIN (implicit)\n"
          ]
        },
        {
          "output_type": "stream",
          "name": "stderr",
          "text": [
            "INFO:sqlalchemy.engine.Engine:BEGIN (implicit)\n"
          ]
        },
        {
          "output_type": "stream",
          "name": "stdout",
          "text": [
            "2025-01-22 16:50:53,042 INFO sqlalchemy.engine.Engine PRAGMA main.table_info(\"SELECT quality, AVG(alcohol) AS avg_alcohol FROM wine_quality GROUP BY quality ORDER BY avg_alcohol DESC\")\n"
          ]
        },
        {
          "output_type": "stream",
          "name": "stderr",
          "text": [
            "INFO:sqlalchemy.engine.Engine:PRAGMA main.table_info(\"SELECT quality, AVG(alcohol) AS avg_alcohol FROM wine_quality GROUP BY quality ORDER BY avg_alcohol DESC\")\n"
          ]
        },
        {
          "output_type": "stream",
          "name": "stdout",
          "text": [
            "2025-01-22 16:50:53,046 INFO sqlalchemy.engine.Engine [raw sql] ()\n"
          ]
        },
        {
          "output_type": "stream",
          "name": "stderr",
          "text": [
            "INFO:sqlalchemy.engine.Engine:[raw sql] ()\n"
          ]
        },
        {
          "output_type": "stream",
          "name": "stdout",
          "text": [
            "2025-01-22 16:50:53,052 INFO sqlalchemy.engine.Engine PRAGMA temp.table_info(\"SELECT quality, AVG(alcohol) AS avg_alcohol FROM wine_quality GROUP BY quality ORDER BY avg_alcohol DESC\")\n"
          ]
        },
        {
          "output_type": "stream",
          "name": "stderr",
          "text": [
            "INFO:sqlalchemy.engine.Engine:PRAGMA temp.table_info(\"SELECT quality, AVG(alcohol) AS avg_alcohol FROM wine_quality GROUP BY quality ORDER BY avg_alcohol DESC\")\n"
          ]
        },
        {
          "output_type": "stream",
          "name": "stdout",
          "text": [
            "2025-01-22 16:50:53,055 INFO sqlalchemy.engine.Engine [raw sql] ()\n"
          ]
        },
        {
          "output_type": "stream",
          "name": "stderr",
          "text": [
            "INFO:sqlalchemy.engine.Engine:[raw sql] ()\n"
          ]
        },
        {
          "output_type": "stream",
          "name": "stdout",
          "text": [
            "2025-01-22 16:50:53,059 INFO sqlalchemy.engine.Engine SELECT quality, AVG(alcohol) AS avg_alcohol FROM wine_quality GROUP BY quality ORDER BY avg_alcohol DESC\n"
          ]
        },
        {
          "output_type": "stream",
          "name": "stderr",
          "text": [
            "INFO:sqlalchemy.engine.Engine:SELECT quality, AVG(alcohol) AS avg_alcohol FROM wine_quality GROUP BY quality ORDER BY avg_alcohol DESC\n"
          ]
        },
        {
          "output_type": "stream",
          "name": "stdout",
          "text": [
            "2025-01-22 16:50:53,076 INFO sqlalchemy.engine.Engine [raw sql] ()\n"
          ]
        },
        {
          "output_type": "stream",
          "name": "stderr",
          "text": [
            "INFO:sqlalchemy.engine.Engine:[raw sql] ()\n"
          ]
        },
        {
          "output_type": "stream",
          "name": "stdout",
          "text": [
            "2025-01-22 16:50:53,082 INFO sqlalchemy.engine.Engine ROLLBACK\n"
          ]
        },
        {
          "output_type": "stream",
          "name": "stderr",
          "text": [
            "INFO:sqlalchemy.engine.Engine:ROLLBACK\n"
          ]
        },
        {
          "output_type": "stream",
          "name": "stdout",
          "text": [
            "   quality  avg_alcohol\n",
            "0        8    12.158824\n",
            "1        7    11.491118\n",
            "2        6    10.658879\n",
            "3        4    10.265094\n",
            "4        3     9.955000\n",
            "5        5     9.888562\n"
          ]
        }
      ]
    }
  ],
  "metadata": {
    "kernelspec": {
      "display_name": "Python 3",
      "name": "python3"
    },
    "language_info": {
      "name": "python"
    },
    "required_libs": [],
    "colab": {
      "provenance": [],
      "include_colab_link": true
    }
  },
  "nbformat": 4,
  "nbformat_minor": 5
}